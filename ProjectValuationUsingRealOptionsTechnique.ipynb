{
 "cells": [
  {
   "cell_type": "code",
   "execution_count": null,
   "metadata": {},
   "outputs": [],
   "source": [
    "Following Example shows how financial derivative valuation technique can be effectively used for the valuation of  large scale investment projects which can be upfront capital outlay or in stages."
   ]
  },
  {
   "cell_type": "markdown",
   "metadata": {},
   "source": [
    "In 2003 Tesla Motors Inc. was founded by Martin Eberhard en Marc Tarpenning. A year later Elon Musk decided to invest a large amount of money to start the development of the \"Tesla Roadster\".\n",
    "\n",
    "One of the major car manufacturers has also become interested in investing in electric cars. They are still in the early stages of developing a fully electric car and management is a bit skeptic about the profitability of the investment. The R&D program involved multiple stages and required immediate capital outlays, while the cash inflows would be expected at a later point in time, as shown in the figure below. Management uses an opportunity cost of capital of 16% and a risk-free rate of 2%. Cash inflows are discounted with the cost of capital and cash outflows are discounted with the risk-free rate.\n",
    "\n",
    "The management of the company is having doubts whether they should invest in the development of the new electric car. However, you mention to them that they do not have to commit to both stages immediately. Instead they could invest in the R&D stage to create the option to commercialize later when the circumstances are right (i.e. they have the option to invest in the commercial project).\n",
    "\n",
    "Suppose that the (gross) value of expected future cash inflows (V) may fluctuate in line with the random fluctuation in demand (u = 1.4, d = 0.7 per period). Also assume a risk-neutral probability of p = 0.457.\n",
    "\n",
    "Cash Flows for the year are as follow:\n",
    "Year 0=-20\n",
    "Year 1=-100\n",
    "Year 2=-1600\n",
    "Year 3=400\n",
    "Year 4=800\n",
    "Year 5=1200\n",
    "Year 6=300"
   ]
  },
  {
   "cell_type": "code",
   "execution_count": 31,
   "metadata": {},
   "outputs": [
    {
     "name": "stdout",
     "output_type": "stream",
     "text": [
      "   CashFlow  DiscountedCashFlow\n",
      "T                              \n",
      "0       -20          -20.000000\n",
      "1      -100          -97.087379\n",
      "2     -1600        -1537.870050\n",
      "3       400          256.263069\n",
      "4       800          441.832878\n",
      "5      1200          571.335619\n",
      "6       300          123.132676\n"
     ]
    }
   ],
   "source": [
    "import numpy as np \n",
    "import pandas as pd\n",
    "data=pd.read_csv('CFData1.csv',index_col='T')\n",
    "data=data.rename(columns={'DiscountedCash Flow':'DiscountedCashFlow'})\n",
    "print(data)"
   ]
  },
  {
   "cell_type": "code",
   "execution_count": 15,
   "metadata": {},
   "outputs": [
    {
     "name": "stdout",
     "output_type": "stream",
     "text": [
      "-262.3931860400001\n",
      "DiscountedCashFlow    1392.564243\n",
      "dtype: float64\n"
     ]
    }
   ],
   "source": [
    "NPV=np.sum(data['DiscountedCashFlow'])\n",
    "print(NPV)\n",
    "NPV_at_time2=np.sum(data.loc[3:,['DiscountedCashFlow']])\n",
    "print(NPV_at_time)"
   ]
  },
  {
   "cell_type": "markdown",
   "metadata": {},
   "source": [
    "The expected cash flows from the project are discounted at the rate of borrowing/cost of debt whereas the initial investments in the RnD phase are discounted at the risk free rate.\n",
    "It is found that the Net Present Value of the project is negative as thus,the management would deter from pursuing the project.However further analysis incorporating the flexibilties or options inherent in the project, the project might appear to be promising to invest in.\n",
    "\n",
    "Below binomaial tree in simulated to find the value of project at the time of making the investment i.e, at time  2years when the company has to decide whether to invest in project or not."
   ]
  },
  {
   "cell_type": "code",
   "execution_count": 22,
   "metadata": {},
   "outputs": [
    {
     "name": "stdout",
     "output_type": "stream",
     "text": [
      "226.83534020543212\n"
     ]
    }
   ],
   "source": [
    "def binomialTree(option_type,initialPrice,strikePrice,annualizedRiskFreeRate,u,d,timeToMaturity,numberOfSteps,\n",
    "                 american=\"false\"):\n",
    "    \n",
    "    # calculate small time steps for tree. \n",
    "    deltaT = float(timeToMaturity)/numberOfSteps\n",
    "    \n",
    "    u = 1.4\n",
    "    d = 0.7\n",
    "    \n",
    "    #As we are going to work using vectors, we need to initiate the arrays.\n",
    "    startingArray = np.asarray([0.0 for i in range(numberOfSteps+1)])\n",
    "    \n",
    "    #We need  tree for calculating expiration values, hence initiate that in an Array. \n",
    "    PriceArray = np.asarray([(initialPrice*(u**j)*(d**(numberOfSteps-j))) for j in range(numberOfSteps+1)])\n",
    "    r = np.divide(PriceArray, initialPrice)\n",
    "    \n",
    "    \n",
    "    #Similarly we need the tree for strike price vectorization. \n",
    "    strikeVectorization = np.asarray([float(strikePrice) for i in range(numberOfSteps+1)])\n",
    "    \n",
    "    #Calculate the probability using the formula\n",
    "    firstValueforProbability = np.exp(annualizedRiskFreeRate*deltaT)\n",
    "    p =(firstValueforProbability-d)/(u-d)\n",
    "    q = 1.0 - p\n",
    "    \n",
    "    #Compute the different prices across all paths of the tree. \n",
    "    if option_type == \"C\":\n",
    "        startingArray[:] = np.maximum(PriceArray-strikeVectorization,0.0)\n",
    "    else:\n",
    "        startingArray[:] = np.maximum(-PriceArray+strikeVectorization,0.0)\n",
    "        \n",
    "    #Compute backward option prices\n",
    "    for i in range(numberOfSteps-1,-1,-1):\n",
    "        startingArray[:-1]=np.exp(-annualizedRiskFreeRate*deltaT)*(p*startingArray[1:]+q*startingArray[0:-1])\n",
    "        PriceArray[:]=PriceArray[:]*u\n",
    "        \n",
    "        #Check for option being American or European option and price accordingly. \n",
    "        if american == \"true\":\n",
    "            if option_type == \"C\":\n",
    "                startingArray[:] = np.maximum(PriceArray[:]-strikeVectorization[:],startingArray[:])\n",
    "            else:\n",
    "                startingArray[:] = np.maximum(-PriceArray[:]+strikeVectorization[:],startingArray[:])\n",
    "                \n",
    "    return startingArray[0]\n",
    "\n",
    "\n",
    "\n",
    "value_of_project_at_time2 = binomialTree(\"C\",1392,1600,0.02,1.4,0.7,2.0,2,\"false\")\n",
    "print(value_of_project_at_time2)\n",
    "\n",
    "    \n",
    "    \n",
    "    \n",
    "\n"
   ]
  },
  {
   "cell_type": "markdown",
   "metadata": {},
   "source": [
    "Accounting for expenditures incurred between year 0 and year 2 for instance the RnD expenditures and substracting the same from the above obtained proect value to get the total project value\n"
   ]
  },
  {
   "cell_type": "code",
   "execution_count": 48,
   "metadata": {
    "scrolled": true
   },
   "outputs": [
    {
     "name": "stdout",
     "output_type": "stream",
     "text": [
      "DiscountedCashFlow    117.087379\n",
      "dtype: float64\n"
     ]
    }
   ],
   "source": [
    "PV_of_expenditures_upto_yearTwo=-np.sum(data.loc[:1,['DiscountedCashFlow']])\n",
    "print(PV_of_expenditures_upto_yearTwo)\n"
   ]
  },
  {
   "cell_type": "code",
   "execution_count": 51,
   "metadata": {},
   "outputs": [
    {
     "name": "stdout",
     "output_type": "stream",
     "text": [
      "109.74796156543212\n"
     ]
    }
   ],
   "source": [
    "total_project_value=np.max(value_of_project_at_time2-PV_of_expenditures_upto_yearTwo,0)\n",
    "print(total_project_value)"
   ]
  },
  {
   "cell_type": "code",
   "execution_count": 52,
   "metadata": {},
   "outputs": [
    {
     "name": "stdout",
     "output_type": "stream",
     "text": [
      "372.14114760543225\n"
     ]
    }
   ],
   "source": [
    "value_of_option_to_invest=total_project_value-NPV\n",
    "print(value_of_option_to_invest)"
   ]
  },
  {
   "cell_type": "markdown",
   "metadata": {},
   "source": [
    "Thus it is found that the value of the option to invest in the project or not is less than zero  and hence it prudent to take up the project which otherwise not possible to  infer from the result of traditional DCF analysis."
   ]
  },
  {
   "cell_type": "code",
   "execution_count": null,
   "metadata": {},
   "outputs": [],
   "source": []
  }
 ],
 "metadata": {
  "kernelspec": {
   "display_name": "Python 3",
   "language": "python",
   "name": "python3"
  },
  "language_info": {
   "codemirror_mode": {
    "name": "ipython",
    "version": 3
   },
   "file_extension": ".py",
   "mimetype": "text/x-python",
   "name": "python",
   "nbconvert_exporter": "python",
   "pygments_lexer": "ipython3",
   "version": "3.7.3"
  }
 },
 "nbformat": 4,
 "nbformat_minor": 2
}
